{
 "cells": [
  {
   "cell_type": "code",
   "execution_count": 1,
   "metadata": {},
   "outputs": [],
   "source": [
    "from IPython.core.display import display, HTML\n",
    "from IPython.display import Javascript\n",
    "from string import Template\n",
    "import json"
   ]
  },
  {
   "cell_type": "code",
   "execution_count": 5,
   "metadata": {
    "scrolled": false
   },
   "outputs": [
    {
     "data": {
      "application/javascript": [
       "window.jsonGraph={'nodes': [{'id': 0, 'label': 'Temporal neural networks for downscaling climate variability * and extremes', 'color': {'background': 'rgb(229,132,67)'}}, {'id': 1, 'label': 'Towards a Robust Parameterization for Conditioning Facies Models Using', 'color': {'background': 'rgb(76,0,255)'}}, {'id': 2, 'label': 'Including Physics in Deep Learning -- An example from 4D seismic', 'color': {'background': 'rgb(76,0,255)'}}, {'id': 3, 'label': 'Deep learning in remote sensing: a review', 'color': {'background': 'rgb(229,132,67)'}}, {'id': 4, 'label': 'Penobscot Dataset: Fostering Machine Learning Development for Seismic', 'color': {'background': 'rgb(229,132,67)'}}, {'id': 5, 'label': 'Using Causal Discovery to Track Information Flow in Spatio-Temporal Data', 'color': {'background': 'rgb(76,0,255)'}}, {'id': 6, 'label': 'Machine Learning for the Geosciences: Challenges and Oppor tunities', 'color': {'background': 'rgb(76,0,255)'}}, {'id': 7, 'label': 'Semantic Segmentation for Urban Planning Maps based on U-Net', 'color': {'background': 'rgb(229,132,67)'}}, {'id': 8, 'label': 'Harmonic Exponential Families on Manifolds', 'color': {'background': 'rgb(67,229,229)'}}, {'id': 9, 'label': 'A Semi-supervised Spatial Spectral Regularized Manifold Local Scaling', 'color': {'background': 'rgb(229,132,67)'}}, {'id': 10, 'label': 'The Data Big Bang and the Expanding Digital Universe: High-Dimensional,', 'color': {'background': 'rgb(229,197,67)'}}, {'id': 11, 'label': 'Predicting Climate Variability over the Indian Region Using Data Mining Strategies', 'color': {'background': 'rgb(229,132,67)'}}, {'id': 12, 'label': 'Adoption of Machine Learning Techniques in Ecology and Earth Science', 'color': {'background': 'rgb(229,132,67)'}}, {'id': 13, 'label': 'A machine learning approach for underwater gas leakage detection', 'color': {'background': 'rgb(229,132,67)'}}, {'id': 14, 'label': 'AID: A Benchmark Dataset for Performance Evaluation of Aerial Scene Classi cation', 'color': {'background': 'rgb(229,132,67)'}}, {'id': 15, 'label': 'Structured Priors for Sparse-Representation-Based Hyperspectral Image Classification', 'color': {'background': 'rgb(229,132,67)'}}, {'id': 16, 'label': 'Evaluating aleatoric and epistemic uncertainties of time series deep learning models for soil moisture predictions', 'color': {'background': 'rgb(229,132,67)'}}, {'id': 17, 'label': 'Disaggregation of Remotely Sensed Soil Moisture in Heterogeneous', 'color': {'background': 'rgb(229,132,67)'}}, {'id': 18, 'label': 'Machine learning phases of matter', 'color': {'background': 'rgb(229,132,67)'}}, {'id': 19, 'label': 'Large-Scale Sentiment Analysis for News and Blogs', 'color': {'background': 'rgb(229,132,67)'}}, {'id': 20, 'label': 'Decentralized Flood Forecasting Using Deep Neural Networks', 'color': {'background': 'rgb(229,132,67)'}}, {'id': 21, 'label': 'Deep Learning Based Large-Scale Automatic Satellite Crosswalk', 'color': {'background': 'rgb(229,132,67)'}}, {'id': 22, 'label': 'Remote Sensor Design for Visual Recognition with Convolutional Neural Networks', 'color': {'background': 'rgb(229,132,67)'}}, {'id': 23, 'label': 'Analytic Expressions for Stochastic Distances Between Relaxed Complex Wishart Distributions', 'color': {'background': 'rgb(229,132,67)'}}, {'id': 24, 'label': 'Optimal Clustering Framework for Hyperspectral Band Selection', 'color': {'background': 'rgb(229,132,67)'}}, {'id': 25, 'label': 'A New Algorithm of Speckle Filtering using Stochastic Distances', 'color': {'background': 'rgb(229,132,67)'}}, {'id': 26, 'label': 'Aboveground biomass mapping in French Guiana by combining remote', 'color': {'background': 'rgb(229,132,67)'}}, {'id': 27, 'label': 'BIN-CT: Urban Waste Collection based on Predicting the Container Fill Level', 'color': {'background': 'rgb(229,132,67)'}}, {'id': 28, 'label': 'Autoencoder-Driven Weather Clustering for Source Estimation during Nuclear EventsI', 'color': {'background': 'rgb(76,0,255)'}}, {'id': 29, 'label': 'WATER BATHYMETRY MAPPING FROM UAV IMAGERY BASED ON MACHINE LEARNING', 'color': {'background': 'rgb(229,197,67)'}}, {'id': 30, 'label': 'Applying machine learning to improve simulations of a chaotic dynamical system using empirical error correction', 'color': {'background': 'rgb(229,132,67)'}}, {'id': 31, 'label': 'Identifying Solar Flare Precursors Using Time Series of SDO/HMI Images and SHARP Parameters', 'color': {'background': 'rgb(229,132,67)'}}, {'id': 32, 'label': 'A N D S E QU EN C E- TO - S EQU EN C E N ET WO R KS', 'color': {'background': 'rgb(229,132,67)'}}, {'id': 33, 'label': 'CobWeb - a toolbox for automatic tomographic image analysis based on', 'color': {'background': 'rgb(229,132,67)'}}, {'id': 34, 'label': 'Non-convex regularization in remote sensing', 'color': {'background': 'rgb(229,132,67)'}}, {'id': 35, 'label': 'Remote Sensor Design for Visual Recognition with Convolutional Neural', 'color': {'background': 'rgb(76,0,255)'}}, {'id': 36, 'label': 'Gaussian process regression for forest attribute estimation from', 'color': {'background': 'rgb(229,132,67)'}}, {'id': 37, 'label': 'AID: A Benchmark Dataset for Performance Evaluation of Aerial Scene', 'color': {'background': 'rgb(229,132,67)'}}, {'id': 38, 'label': 'Recurrent Neural Networks for Multivariate Time Series with Missing', 'color': {'background': 'rgb(229,132,67)'}}, {'id': 39, 'label': 'Incremental Import Vector Machines for Classifying Hyperspectral Data', 'color': {'background': 'rgb(229,197,67)'}}, {'id': 40, 'label': 'Band Selection from Hyperspectral Images Using Attention-based', 'color': {'background': 'rgb(229,132,67)'}}, {'id': 41, 'label': 'PBBFMM3D: a Parallel Black-Box Fast Multipole Method for Non-oscillatory', 'color': {'background': 'rgb(229,132,67)'}}, {'id': 42, 'label': 'Machine learning for graph-based representations of three-dimensional', 'color': {'background': 'rgb(76,0,255)'}}, {'id': 43, 'label': 'Some neural network applications in environmental sciences. Part II: advancing computational efficiency of environmental numerical models', 'color': {'background': 'rgb(229,132,67)'}}, {'id': 44, 'label': 'A Data-driven Approach to Detecting Precipitation from Meteorological', 'color': {'background': 'rgb(229,132,67)'}}, {'id': 45, 'label': 'Netherlands Dataset: A New Public Dataset for Machine Learning in', 'color': {'background': 'rgb(229,132,67)'}}, {'id': 46, 'label': 'Non-parametric Bayesian mixture of sparse regressions with application towards feature selection for statistical downscaling', 'color': {'background': 'rgb(67,229,229)'}}, {'id': 47, 'label': 'Deep learning for semantic segmentation of remote sensing images with', 'color': {'background': 'rgb(229,132,67)'}}, {'id': 48, 'label': 'Nonlinear unmixing of hyperspectral images: models and algorithms', 'color': {'background': 'rgb(229,197,67)'}}, {'id': 49, 'label': 'Application of Deep Convolutional Neural Networks for Detecting Extreme Weather in Climate Datasets', 'color': {'background': 'rgb(229,132,67)'}}, {'id': 50, 'label': 'Aboveground biomass mapping in French Guiana by combining remote', 'color': {'background': 'rgb(164,67,229)'}}, {'id': 51, 'label': 'Day-Ahead Hail Prediction Integrating Machine Learning with Storm-Scale Numerical Weather Models', 'color': {'background': 'rgb(164,67,229)'}}, {'id': 52, 'label': 'Hypothesis Testing in Speckled Data with Stochastic Distances', 'color': {'background': 'rgb(229,132,67)'}}, {'id': 53, 'label': 'Seismic Bayesian evidential learning: Estimation and uncertainty', 'color': {'background': 'rgb(229,132,67)'}}, {'id': 54, 'label': 'Deep Recurrent Neural Networks for mapping winter vegetation quality', 'color': {'background': 'rgb(229,197,67)'}}, {'id': 55, 'label': 'A Data-Driven Approach for Accurate Rainfall Prediction', 'color': {'background': 'rgb(229,132,67)'}}, {'id': 56, 'label': 'Remote Sensing Image Classification with Large Scale Gaussian Processes', 'color': {'background': 'rgb(229,197,67)'}}, {'id': 57, 'label': 'Joint Gaussian Processes for Biophysical Parameter Retrieval', 'color': {'background': 'rgb(229,132,67)'}}, {'id': 58, 'label': 'Spatial-Spectral Regularized Local Scaling Cut for Dimensionality', 'color': {'background': 'rgb(229,132,67)'}}, {'id': 59, 'label': 'Machine Learning for the Geosciences: Challenges and Opportunities', 'color': {'background': 'rgb(229,197,67)'}}, {'id': 60, 'label': 'Three dimensional Deep Learning approach for remote sensing image', 'color': {'background': 'rgb(229,132,67)'}}, {'id': 61, 'label': 'High-Dimensional Dependency Structure Learning for Physical Processes', 'color': {'background': 'rgb(229,132,67)'}}, {'id': 62, 'label': 'Disaggregation of SMAP L3 Brightness Temperatures to 9km using Kernel', 'color': {'background': 'rgb(229,132,67)'}}, {'id': 63, 'label': 'Social Network Analysis of Scientific Articles Published by Food Policy', 'color': {'background': 'rgb(76,0,255)'}}, {'id': 64, 'label': 'SoilGrids250m: Global gridded soil information based on machine learning', 'color': {'background': 'rgb(229,132,67)'}}, {'id': 65, 'label': 'Structured Priors for Sparse-Representation-Based Hyperspectral Image', 'color': {'background': 'rgb(229,132,67)'}}, {'id': 66, 'label': 'Topological descriptors of spatial coherence in a convective boundary', 'color': {'background': 'rgb(229,132,67)'}}, {'id': 67, 'label': 'A Supervised Geometry-Aware Mapping Approach for Classification of', 'color': {'background': 'rgb(229,132,67)'}}, {'id': 68, 'label': 'SVM-Based Sea-Surface Small Target Detection: A', 'color': {'background': 'rgb(229,132,67)'}}, {'id': 69, 'label': 'Analytic Expressions for Stochastic Distances Between Relaxed Complex', 'color': {'background': 'rgb(67,229,229)'}}, {'id': 70, 'label': 'Validating Hyperspectral Image Segmentation', 'color': {'background': 'rgb(229,197,67)'}}], 'edges': [{'from': 4, 'to': 1}, {'from': 6, 'to': 3}, {'from': 6, 'to': 4}, {'from': 10, 'to': 1}, {'from': 10, 'to': 4}, {'from': 10, 'to': 5}, {'from': 10, 'to': 6}, {'from': 11, 'to': 0}, {'from': 12, 'to': 10}, {'from': 13, 'to': 4}, {'from': 13, 'to': 10}, {'from': 17, 'to': 16}, {'from': 18, 'to': 0}, {'from': 18, 'to': 1}, {'from': 18, 'to': 2}, {'from': 18, 'to': 4}, {'from': 18, 'to': 5}, {'from': 18, 'to': 6}, {'from': 18, 'to': 9}, {'from': 18, 'to': 10}, {'from': 18, 'to': 11}, {'from': 18, 'to': 13}, {'from': 18, 'to': 17}, {'from': 22, 'to': 3}, {'from': 23, 'to': 10}, {'from': 23, 'to': 18}, {'from': 24, 'to': 10}, {'from': 24, 'to': 18}, {'from': 25, 'to': 10}, {'from': 25, 'to': 18}, {'from': 25, 'to': 23}, {'from': 27, 'to': 18}, {'from': 29, 'to': 18}, {'from': 30, 'to': 0}, {'from': 30, 'to': 1}, {'from': 30, 'to': 4}, {'from': 30, 'to': 5}, {'from': 30, 'to': 6}, {'from': 30, 'to': 10}, {'from': 30, 'to': 11}, {'from': 30, 'to': 12}, {'from': 30, 'to': 13}, {'from': 30, 'to': 16}, {'from': 30, 'to': 17}, {'from': 30, 'to': 18}, {'from': 30, 'to': 27}, {'from': 31, 'to': 14}, {'from': 31, 'to': 30}, {'from': 32, 'to': 10}, {'from': 32, 'to': 18}, {'from': 34, 'to': 4}, {'from': 34, 'to': 10}, {'from': 34, 'to': 18}, {'from': 35, 'to': 3}, {'from': 35, 'to': 22}, {'from': 37, 'to': 14}, {'from': 38, 'to': 30}, {'from': 39, 'to': 4}, {'from': 39, 'to': 10}, {'from': 39, 'to': 18}, {'from': 39, 'to': 25}, {'from': 39, 'to': 30}, {'from': 40, 'to': 18}, {'from': 40, 'to': 24}, {'from': 42, 'to': 18}, {'from': 43, 'to': 10}, {'from': 43, 'to': 18}, {'from': 43, 'to': 30}, {'from': 43, 'to': 32}, {'from': 45, 'to': 1}, {'from': 45, 'to': 3}, {'from': 45, 'to': 4}, {'from': 45, 'to': 6}, {'from': 45, 'to': 10}, {'from': 45, 'to': 13}, {'from': 45, 'to': 18}, {'from': 45, 'to': 21}, {'from': 45, 'to': 30}, {'from': 46, 'to': 0}, {'from': 46, 'to': 10}, {'from': 46, 'to': 11}, {'from': 46, 'to': 18}, {'from': 46, 'to': 24}, {'from': 46, 'to': 30}, {'from': 47, 'to': 1}, {'from': 47, 'to': 3}, {'from': 47, 'to': 4}, {'from': 47, 'to': 7}, {'from': 47, 'to': 9}, {'from': 47, 'to': 10}, {'from': 47, 'to': 18}, {'from': 47, 'to': 22}, {'from': 47, 'to': 30}, {'from': 47, 'to': 39}, {'from': 47, 'to': 45}, {'from': 48, 'to': 10}, {'from': 48, 'to': 34}, {'from': 49, 'to': 18}, {'from': 49, 'to': 30}, {'from': 49, 'to': 46}, {'from': 50, 'to': 26}, {'from': 52, 'to': 10}, {'from': 52, 'to': 13}, {'from': 52, 'to': 18}, {'from': 52, 'to': 23}, {'from': 52, 'to': 25}, {'from': 52, 'to': 27}, {'from': 52, 'to': 30}, {'from': 52, 'to': 39}, {'from': 52, 'to': 47}, {'from': 53, 'to': 4}, {'from': 55, 'to': 44}, {'from': 56, 'to': 1}, {'from': 56, 'to': 3}, {'from': 56, 'to': 18}, {'from': 56, 'to': 21}, {'from': 56, 'to': 37}, {'from': 56, 'to': 39}, {'from': 56, 'to': 47}, {'from': 57, 'to': 0}, {'from': 57, 'to': 1}, {'from': 57, 'to': 4}, {'from': 57, 'to': 5}, {'from': 57, 'to': 10}, {'from': 57, 'to': 11}, {'from': 57, 'to': 17}, {'from': 57, 'to': 18}, {'from': 57, 'to': 25}, {'from': 57, 'to': 30}, {'from': 57, 'to': 39}, {'from': 57, 'to': 43}, {'from': 57, 'to': 45}, {'from': 57, 'to': 46}, {'from': 57, 'to': 47}, {'from': 57, 'to': 52}, {'from': 57, 'to': 56}, {'from': 58, 'to': 9}, {'from': 58, 'to': 15}, {'from': 58, 'to': 18}, {'from': 58, 'to': 39}, {'from': 58, 'to': 47}, {'from': 59, 'to': 3}, {'from': 59, 'to': 4}, {'from': 59, 'to': 6}, {'from': 59, 'to': 10}, {'from': 59, 'to': 18}, {'from': 59, 'to': 30}, {'from': 59, 'to': 45}, {'from': 60, 'to': 4}, {'from': 60, 'to': 9}, {'from': 60, 'to': 10}, {'from': 60, 'to': 18}, {'from': 60, 'to': 30}, {'from': 60, 'to': 39}, {'from': 60, 'to': 45}, {'from': 60, 'to': 47}, {'from': 60, 'to': 52}, {'from': 60, 'to': 56}, {'from': 60, 'to': 57}, {'from': 60, 'to': 58}, {'from': 61, 'to': 5}, {'from': 61, 'to': 10}, {'from': 61, 'to': 18}, {'from': 61, 'to': 30}, {'from': 61, 'to': 34}, {'from': 61, 'to': 57}, {'from': 62, 'to': 17}, {'from': 63, 'to': 18}, {'from': 64, 'to': 10}, {'from': 64, 'to': 16}, {'from': 64, 'to': 17}, {'from': 64, 'to': 18}, {'from': 64, 'to': 30}, {'from': 64, 'to': 47}, {'from': 65, 'to': 9}, {'from': 65, 'to': 15}, {'from': 65, 'to': 18}, {'from': 65, 'to': 39}, {'from': 65, 'to': 58}, {'from': 66, 'to': 18}, {'from': 66, 'to': 30}, {'from': 67, 'to': 9}, {'from': 67, 'to': 10}, {'from': 67, 'to': 18}, {'from': 67, 'to': 24}, {'from': 67, 'to': 39}, {'from': 67, 'to': 57}, {'from': 67, 'to': 58}, {'from': 67, 'to': 60}, {'from': 69, 'to': 10}, {'from': 69, 'to': 18}, {'from': 69, 'to': 23}, {'from': 69, 'to': 25}, {'from': 69, 'to': 52}, {'from': 70, 'to': 47}]};"
      ],
      "text/plain": [
       "<IPython.core.display.Javascript object>"
      ]
     },
     "execution_count": 5,
     "metadata": {},
     "output_type": "execute_result"
    }
   ],
   "source": [
    "with open('data.json') as json_file:\n",
    "    json_graph = json.load(json_file)\n",
    "    #print(json_graph['nodes'])\n",
    "    \n",
    "Javascript(\"\"\"window.jsonGraph={};\"\"\".format(json_graph))"
   ]
  },
  {
   "cell_type": "code",
   "execution_count": 6,
   "metadata": {
    "scrolled": true
   },
   "outputs": [
    {
     "data": {
      "text/html": [
       "<div id=\"mynetwork\"></div>\n"
      ],
      "text/plain": [
       "<IPython.core.display.HTML object>"
      ]
     },
     "metadata": {},
     "output_type": "display_data"
    }
   ],
   "source": [
    "%%html\n",
    "<div id=\"mynetwork\"></div>"
   ]
  },
  {
   "cell_type": "code",
   "execution_count": 7,
   "metadata": {},
   "outputs": [
    {
     "data": {
      "application/javascript": [
       "requirejs.config({\n",
       "    paths: {\n",
       "        vis: 'vis'\n",
       "    }\n",
       "});\n",
       "\n",
       "require(['vis'], function(vis){\n",
       "    \n",
       "    // create a network\n",
       "    var container = document.getElementById('mynetwork');\n",
       "    var options = {\n",
       "        width: '1600px',\n",
       "        height: '800px',\n",
       "        autoResize: true,\n",
       "        labelHighlightBold: true,\n",
       "        \n",
       "//         layout:{\n",
       "//             // hierarchical: true,\n",
       "//             improvedLayout: true\n",
       "//         },\n",
       "\n",
       "//         barnesHut: {\n",
       "//             avoidOverlap: 1,\n",
       "//             springLength: 1000,\n",
       "//             springConstant: 0.001,\n",
       "//             gravitationalConstant: -10000,\n",
       "//             repulsion:{\n",
       "//                 nodeDistance:100\n",
       "//             }\n",
       "//         },\n",
       "        \n",
       "//         nodes: {\n",
       "//             shape: 'dot'\n",
       "//         }\n",
       "        \n",
       "// WikiMap Options\n",
       "        nodes: {\n",
       "            shape: 'dot',\n",
       "            scaling: {\n",
       "              min: 20,\n",
       "              max: 30,\n",
       "              label: { min: 14, max: 30, drawThreshold: 9, maxVisible: 20 },\n",
       "        },\n",
       "        font: { size: 14, face: 'Helvetica Neue, Helvetica, Arial' },\n",
       "        },\n",
       "        interaction: {\n",
       "            hover: true,\n",
       "            hoverConnectedEdges: false,\n",
       "            selectConnectedEdges: true,\n",
       "        }\n",
       "        \n",
       "        // Neighborhood Highlight Option Settings\n",
       "//         nodes: {\n",
       "//             shape: 'dot',\n",
       "//             scaling: {\n",
       "//               min: 10,\n",
       "//               max: 20,\n",
       "//               label: {\n",
       "//                 min: 8,\n",
       "//                 max: 30,\n",
       "//                 drawThreshold: 9,\n",
       "//                 maxVisible: 20\n",
       "//               }\n",
       "//             },\n",
       "//             font: {\n",
       "//               size: 12,\n",
       "//               face: 'Tahoma'\n",
       "//             }\n",
       "//           },\n",
       "//         edges: {\n",
       "//             width: 0.15,\n",
       "//             color: {inherit: 'from'},\n",
       "//             smooth: {\n",
       "//                 type: 'both'\n",
       "//             }\n",
       "//         },\n",
       "//         physics: true,\n",
       "//         interaction: {\n",
       "//             tooltipDelay: 200,\n",
       "//             hideEdgesOnDrag: true\n",
       "//         }\n",
       "    };\n",
       "    \n",
       "    // We load the JSON graph we generated from iPython input\n",
       "    var graph = window.jsonGraph;\n",
       "    \n",
       "    // Display Graph\n",
       "    var network = new vis.Network(container, graph, options);\n",
       "});\n"
      ],
      "text/plain": [
       "<IPython.core.display.Javascript object>"
      ]
     },
     "metadata": {},
     "output_type": "display_data"
    }
   ],
   "source": [
    "%%javascript\n",
    "requirejs.config({\n",
    "    paths: {\n",
    "        vis: 'vis'\n",
    "    }\n",
    "});\n",
    "\n",
    "require(['vis'], function(vis){\n",
    "    \n",
    "    // create a network\n",
    "    var container = document.getElementById('mynetwork');\n",
    "    var options = {\n",
    "        width: '1600px',\n",
    "        height: '800px',\n",
    "        autoResize: true,\n",
    "        labelHighlightBold: true,\n",
    "        \n",
    "//         layout:{\n",
    "//             // hierarchical: true,\n",
    "//             improvedLayout: true\n",
    "//         },\n",
    "\n",
    "//         barnesHut: {\n",
    "//             avoidOverlap: 1,\n",
    "//             springLength: 1000,\n",
    "//             springConstant: 0.001,\n",
    "//             gravitationalConstant: -10000,\n",
    "//             repulsion:{\n",
    "//                 nodeDistance:100\n",
    "//             }\n",
    "//         },\n",
    "        \n",
    "//         nodes: {\n",
    "//             shape: 'dot'\n",
    "//         }\n",
    "        \n",
    "// WikiMap Options\n",
    "        nodes: {\n",
    "            shape: 'dot',\n",
    "            scaling: {\n",
    "              min: 20,\n",
    "              max: 30,\n",
    "              label: { min: 14, max: 30, drawThreshold: 9, maxVisible: 20 },\n",
    "        },\n",
    "        font: { size: 14, face: 'Helvetica Neue, Helvetica, Arial' },\n",
    "        },\n",
    "        interaction: {\n",
    "            hover: true,\n",
    "            hoverConnectedEdges: false,\n",
    "            selectConnectedEdges: true,\n",
    "        }\n",
    "        \n",
    "        // Neighborhood Highlight Option Settings\n",
    "//         nodes: {\n",
    "//             shape: 'dot',\n",
    "//             scaling: {\n",
    "//               min: 10,\n",
    "//               max: 20,\n",
    "//               label: {\n",
    "//                 min: 8,\n",
    "//                 max: 30,\n",
    "//                 drawThreshold: 9,\n",
    "//                 maxVisible: 20\n",
    "//               }\n",
    "//             },\n",
    "//             font: {\n",
    "//               size: 12,\n",
    "//               face: 'Tahoma'\n",
    "//             }\n",
    "//           },\n",
    "//         edges: {\n",
    "//             width: 0.15,\n",
    "//             color: {inherit: 'from'},\n",
    "//             smooth: {\n",
    "//                 type: 'both'\n",
    "//             }\n",
    "//         },\n",
    "//         physics: true,\n",
    "//         interaction: {\n",
    "//             tooltipDelay: 200,\n",
    "//             hideEdgesOnDrag: true\n",
    "//         }\n",
    "    };\n",
    "    \n",
    "    // We load the JSON graph we generated from iPython input\n",
    "    var graph = window.jsonGraph;\n",
    "    \n",
    "    // Display Graph\n",
    "    var network = new vis.Network(container, graph, options);\n",
    "});"
   ]
  },
  {
   "cell_type": "code",
   "execution_count": null,
   "metadata": {},
   "outputs": [],
   "source": []
  }
 ],
 "metadata": {
  "kernelspec": {
   "display_name": "Python 3",
   "language": "python",
   "name": "python3"
  },
  "language_info": {
   "codemirror_mode": {
    "name": "ipython",
    "version": 3
   },
   "file_extension": ".py",
   "mimetype": "text/x-python",
   "name": "python",
   "nbconvert_exporter": "python",
   "pygments_lexer": "ipython3",
   "version": "3.7.3"
  }
 },
 "nbformat": 4,
 "nbformat_minor": 2
}
