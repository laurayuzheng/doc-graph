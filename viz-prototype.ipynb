{
 "cells": [
  {
   "cell_type": "code",
   "execution_count": 8,
   "metadata": {},
   "outputs": [],
   "source": [
    "from IPython.core.display import display, HTML\n",
    "from IPython.display import Javascript\n",
    "from string import Template\n",
    "import json"
   ]
  },
  {
   "cell_type": "code",
   "execution_count": 9,
   "metadata": {
    "scrolled": false
   },
   "outputs": [
    {
     "data": {
      "application/javascript": [
       "window.jsonGraph={'nodes': [{'id': 0, 'label': 'Temporal neural networks for downscaling climate variability * and extremes'}, {'id': 1, 'label': 'Machine Learning for the Geosciences: Challenges and Oppor tunities'}, {'id': 2, 'label': 'Adoption of Machine Learning Techniques in Ecology and Earth Science'}, {'id': 3, 'label': 'Machine learning phases of matter'}, {'id': 4, 'label': 'Large-Scale Sentiment Analysis for News and Blogs'}, {'id': 5, 'label': 'Some neural network applications in environmental sciences. Part II: advancing computational efficiency of environmental numerical models'}, {'id': 6, 'label': 'Non-parametric Bayesian mixture of sparse regressions with application towards feature selection for statistical downscaling'}, {'id': 7, 'label': 'Application of Deep Convolutional Neural Networks for Detecting Extreme Weather in Climate Datasets'}, {'id': 8, 'label': 'Day-Ahead Hail Prediction Integrating Machine Learning with Storm-Scale Numerical Weather Models'}, {'id': 9, 'label': 'Social Network Analysis of Scientific Articles Published by Food Policy'}, {'id': 10, 'label': 'SoilGrids250m: Global gridded soil information based on machine learning'}], 'edges': [{'from': 2, 'to': 1}, {'from': 3, 'to': 0}, {'from': 3, 'to': 1}, {'from': 3, 'to': 2}, {'from': 4, 'to': 3}, {'from': 5, 'to': 0}, {'from': 5, 'to': 1}, {'from': 5, 'to': 3}, {'from': 6, 'to': 0}, {'from': 6, 'to': 3}, {'from': 6, 'to': 5}, {'from': 7, 'to': 0}, {'from': 7, 'to': 1}, {'from': 7, 'to': 3}, {'from': 7, 'to': 5}, {'from': 7, 'to': 6}, {'from': 8, 'to': 1}, {'from': 8, 'to': 3}, {'from': 9, 'to': 0}, {'from': 9, 'to': 1}, {'from': 9, 'to': 3}, {'from': 9, 'to': 5}, {'from': 9, 'to': 6}, {'from': 10, 'to': 0}, {'from': 10, 'to': 1}, {'from': 10, 'to': 2}, {'from': 10, 'to': 3}, {'from': 10, 'to': 5}, {'from': 10, 'to': 6}, {'from': 10, 'to': 7}, {'from': 10, 'to': 9}]};"
      ],
      "text/plain": [
       "<IPython.core.display.Javascript object>"
      ]
     },
     "execution_count": 9,
     "metadata": {},
     "output_type": "execute_result"
    }
   ],
   "source": [
    "with open('data.json') as json_file:\n",
    "    json_graph = json.load(json_file)\n",
    "    #print(json_graph['nodes'])\n",
    "    \n",
    "Javascript(\"\"\"window.jsonGraph={};\"\"\".format(json_graph))"
   ]
  },
  {
   "cell_type": "code",
   "execution_count": 10,
   "metadata": {
    "scrolled": false
   },
   "outputs": [
    {
     "data": {
      "text/html": [
       "<div id=\"mynetwork\"></div>\n"
      ],
      "text/plain": [
       "<IPython.core.display.HTML object>"
      ]
     },
     "metadata": {},
     "output_type": "display_data"
    }
   ],
   "source": [
    "%%html\n",
    "<div id=\"mynetwork\"></div>"
   ]
  },
  {
   "cell_type": "code",
   "execution_count": 11,
   "metadata": {},
   "outputs": [
    {
     "data": {
      "application/javascript": [
       "requirejs.config({\n",
       "    paths: {\n",
       "        vis: 'vis'\n",
       "    }\n",
       "});\n",
       "\n",
       "require(['vis'], function(vis){\n",
       "    \n",
       "    // create a network\n",
       "    var container = document.getElementById('mynetwork');\n",
       "    var options = {\n",
       "        width: '1600px',\n",
       "        height: '800px',\n",
       "        autoResize: true,\n",
       "        \n",
       "        layout:{\n",
       "            improvedLayout: true\n",
       "        },\n",
       "        \n",
       "        barnesHut: {\n",
       "            avoidOverlap: 1,\n",
       "            springLength: 100,\n",
       "            springConstant: 0.001,\n",
       "            gravitationalConstant: -10000,\n",
       "            repulsion:{\n",
       "                nodeDistance:100\n",
       "            }\n",
       "        },\n",
       "        \n",
       "        nodes: {\n",
       "            shape: 'ellipse'\n",
       "        }\n",
       "    };\n",
       "    \n",
       "    // We load the JSON graph we generated from iPython input\n",
       "    var graph = window.jsonGraph;\n",
       "    \n",
       "    // Display Graph\n",
       "    var network = new vis.Network(container, graph, options);\n",
       "});\n"
      ],
      "text/plain": [
       "<IPython.core.display.Javascript object>"
      ]
     },
     "metadata": {},
     "output_type": "display_data"
    }
   ],
   "source": [
    "%%javascript\n",
    "requirejs.config({\n",
    "    paths: {\n",
    "        vis: 'vis'\n",
    "    }\n",
    "});\n",
    "\n",
    "require(['vis'], function(vis){\n",
    "    \n",
    "    // create a network\n",
    "    var container = document.getElementById('mynetwork');\n",
    "    var options = {\n",
    "        width: '1600px',\n",
    "        height: '800px',\n",
    "        autoResize: true,\n",
    "        \n",
    "        layout:{\n",
    "            improvedLayout: true\n",
    "        },\n",
    "        \n",
    "        barnesHut: {\n",
    "            avoidOverlap: 1,\n",
    "            springLength: 100,\n",
    "            springConstant: 0.001,\n",
    "            gravitationalConstant: -10000,\n",
    "            repulsion:{\n",
    "                nodeDistance:100\n",
    "            }\n",
    "        },\n",
    "        \n",
    "        nodes: {\n",
    "            shape: 'ellipse'\n",
    "        }\n",
    "    };\n",
    "    \n",
    "    // We load the JSON graph we generated from iPython input\n",
    "    var graph = window.jsonGraph;\n",
    "    \n",
    "    // Display Graph\n",
    "    var network = new vis.Network(container, graph, options);\n",
    "});"
   ]
  },
  {
   "cell_type": "code",
   "execution_count": null,
   "metadata": {},
   "outputs": [],
   "source": []
  }
 ],
 "metadata": {
  "kernelspec": {
   "display_name": "Python 3",
   "language": "python",
   "name": "python3"
  },
  "language_info": {
   "codemirror_mode": {
    "name": "ipython",
    "version": 3
   },
   "file_extension": ".py",
   "mimetype": "text/x-python",
   "name": "python",
   "nbconvert_exporter": "python",
   "pygments_lexer": "ipython3",
   "version": "3.7.3"
  }
 },
 "nbformat": 4,
 "nbformat_minor": 2
}
