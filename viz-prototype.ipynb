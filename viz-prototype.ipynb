{
 "cells": [
  {
   "cell_type": "code",
   "execution_count": 12,
   "metadata": {},
   "outputs": [],
   "source": [
    "from IPython.core.display import display, HTML\n",
    "from IPython.display import Javascript\n",
    "from string import Template\n",
    "import json"
   ]
  },
  {
   "cell_type": "code",
   "execution_count": 13,
   "metadata": {
    "scrolled": false
   },
   "outputs": [
    {
     "data": {
      "application/javascript": [
       "window.jsonGraph={'nodes': [{'id': 0, 'label': 'Temporal neural networks for downscaling climate variability * and extremes'}, {'id': 1, 'label': 'Towards a Robust Parameterization for Conditioning Facies Models Using'}, {'id': 2, 'label': 'Including Physics in Deep Learning -- An example from 4D seismic'}, {'id': 3, 'label': 'Deep learning in remote sensing: a review'}, {'id': 4, 'label': 'Penobscot Dataset: Fostering Machine Learning Development for Seismic'}, {'id': 5, 'label': 'Using Causal Discovery to Track Information Flow in Spatio-Temporal Data'}, {'id': 6, 'label': 'Machine Learning for the Geosciences: Challenges and Oppor tunities'}, {'id': 7, 'label': 'Semantic Segmentation for Urban Planning Maps based on U-Net'}, {'id': 8, 'label': 'Harmonic Exponential Families on Manifolds'}, {'id': 9, 'label': 'A Semi-supervised Spatial Spectral Regularized Manifold Local Scaling'}, {'id': 10, 'label': 'The Data Big Bang and the Expanding Digital Universe: High-Dimensional,'}, {'id': 11, 'label': 'Predicting Climate Variability over the Indian Region Using Data Mining Strategies'}, {'id': 12, 'label': 'Adoption of Machine Learning Techniques in Ecology and Earth Science'}, {'id': 13, 'label': 'A machine learning approach for underwater gas leakage detection'}, {'id': 14, 'label': 'AID: A Benchmark Dataset for Performance Evaluation of Aerial Scene Classi cation'}, {'id': 15, 'label': 'Structured Priors for Sparse-Representation-Based Hyperspectral Image Classification'}, {'id': 16, 'label': 'Evaluating aleatoric and epistemic uncertainties of time series deep learning models for soil moisture predictions'}, {'id': 17, 'label': 'Disaggregation of Remotely Sensed Soil Moisture in Heterogeneous'}, {'id': 18, 'label': 'Machine learning phases of matter'}, {'id': 19, 'label': 'Large-Scale Sentiment Analysis for News and Blogs'}, {'id': 20, 'label': 'Decentralized Flood Forecasting Using Deep Neural Networks'}, {'id': 21, 'label': 'Deep Learning Based Large-Scale Automatic Satellite Crosswalk'}, {'id': 22, 'label': 'Remote Sensor Design for Visual Recognition with Convolutional Neural Networks'}, {'id': 23, 'label': 'Analytic Expressions for Stochastic Distances Between Relaxed Complex Wishart Distributions'}, {'id': 24, 'label': 'Optimal Clustering Framework for Hyperspectral Band Selection'}, {'id': 25, 'label': 'A New Algorithm of Speckle Filtering using Stochastic Distances'}, {'id': 26, 'label': 'Aboveground biomass mapping in French Guiana by combining remote'}, {'id': 27, 'label': 'BIN-CT: Urban Waste Collection based on Predicting the Container Fill Level'}, {'id': 28, 'label': 'Autoencoder-Driven Weather Clustering for Source Estimation during Nuclear EventsI'}, {'id': 29, 'label': 'WATER BATHYMETRY MAPPING FROM UAV IMAGERY BASED ON MACHINE LEARNING'}, {'id': 30, 'label': 'Applying machine learning to improve simulations of a chaotic dynamical system using empirical error correction'}, {'id': 31, 'label': 'Identifying Solar Flare Precursors Using Time Series of SDO/HMI Images and SHARP Parameters'}, {'id': 32, 'label': 'A N D S E QU EN C E- TO - S EQU EN C E N ET WO R KS'}, {'id': 33, 'label': 'CobWeb - a toolbox for automatic tomographic image analysis based on'}, {'id': 34, 'label': 'Non-convex regularization in remote sensing'}, {'id': 35, 'label': 'Remote Sensor Design for Visual Recognition with Convolutional Neural'}, {'id': 36, 'label': 'Gaussian process regression for forest attribute estimation from'}, {'id': 37, 'label': 'AID: A Benchmark Dataset for Performance Evaluation of Aerial Scene'}, {'id': 38, 'label': 'Recurrent Neural Networks for Multivariate Time Series with Missing'}, {'id': 39, 'label': 'Incremental Import Vector Machines for Classifying Hyperspectral Data'}, {'id': 40, 'label': 'Band Selection from Hyperspectral Images Using Attention-based'}, {'id': 41, 'label': 'PBBFMM3D: a Parallel Black-Box Fast Multipole Method for Non-oscillatory'}, {'id': 42, 'label': 'Machine learning for graph-based representations of three-dimensional'}, {'id': 43, 'label': 'Some neural network applications in environmental sciences. Part II: advancing computational efficiency of environmental numerical models'}, {'id': 44, 'label': 'A Data-driven Approach to Detecting Precipitation from Meteorological'}, {'id': 45, 'label': 'Netherlands Dataset: A New Public Dataset for Machine Learning in'}, {'id': 46, 'label': 'Non-parametric Bayesian mixture of sparse regressions with application towards feature selection for statistical downscaling'}, {'id': 47, 'label': 'Deep learning for semantic segmentation of remote sensing images with'}, {'id': 48, 'label': 'Nonlinear unmixing of hyperspectral images: models and algorithms'}, {'id': 49, 'label': 'Application of Deep Convolutional Neural Networks for Detecting Extreme Weather in Climate Datasets'}, {'id': 50, 'label': 'Aboveground biomass mapping in French Guiana by combining remote'}, {'id': 51, 'label': 'Day-Ahead Hail Prediction Integrating Machine Learning with Storm-Scale Numerical Weather Models'}, {'id': 52, 'label': 'Hypothesis Testing in Speckled Data with Stochastic Distances'}, {'id': 53, 'label': 'Seismic Bayesian evidential learning: Estimation and uncertainty'}, {'id': 54, 'label': 'Deep Recurrent Neural Networks for mapping winter vegetation quality'}, {'id': 55, 'label': 'A Data-Driven Approach for Accurate Rainfall Prediction'}, {'id': 56, 'label': 'Remote Sensing Image Classification with Large Scale Gaussian Processes'}, {'id': 57, 'label': 'Joint Gaussian Processes for Biophysical Parameter Retrieval'}, {'id': 58, 'label': 'Spatial-Spectral Regularized Local Scaling Cut for Dimensionality'}, {'id': 59, 'label': 'Machine Learning for the Geosciences: Challenges and Opportunities'}, {'id': 60, 'label': 'Three dimensional Deep Learning approach for remote sensing image'}, {'id': 61, 'label': 'High-Dimensional Dependency Structure Learning for Physical Processes'}, {'id': 62, 'label': 'Disaggregation of SMAP L3 Brightness Temperatures to 9km using Kernel'}, {'id': 63, 'label': 'Social Network Analysis of Scientific Articles Published by Food Policy'}, {'id': 64, 'label': 'SoilGrids250m: Global gridded soil information based on machine learning'}, {'id': 65, 'label': 'Structured Priors for Sparse-Representation-Based Hyperspectral Image'}, {'id': 66, 'label': 'Topological descriptors of spatial coherence in a convective boundary'}, {'id': 67, 'label': 'A Supervised Geometry-Aware Mapping Approach for Classification of'}, {'id': 68, 'label': 'SVM-Based Sea-Surface Small Target Detection: A'}, {'id': 69, 'label': 'Analytic Expressions for Stochastic Distances Between Relaxed Complex'}, {'id': 70, 'label': 'Validating Hyperspectral Image Segmentation'}], 'edges': [{'from': 4, 'to': 1}, {'from': 4, 'to': 3}, {'from': 5, 'to': 4}, {'from': 6, 'to': 1}, {'from': 6, 'to': 2}, {'from': 6, 'to': 3}, {'from': 6, 'to': 4}, {'from': 10, 'to': 0}, {'from': 10, 'to': 1}, {'from': 10, 'to': 4}, {'from': 10, 'to': 5}, {'from': 10, 'to': 6}, {'from': 10, 'to': 8}, {'from': 11, 'to': 0}, {'from': 12, 'to': 6}, {'from': 12, 'to': 10}, {'from': 13, 'to': 1}, {'from': 13, 'to': 4}, {'from': 13, 'to': 6}, {'from': 13, 'to': 10}, {'from': 17, 'to': 10}, {'from': 17, 'to': 11}, {'from': 17, 'to': 16}, {'from': 18, 'to': 0}, {'from': 18, 'to': 1}, {'from': 18, 'to': 2}, {'from': 18, 'to': 3}, {'from': 18, 'to': 4}, {'from': 18, 'to': 5}, {'from': 18, 'to': 6}, {'from': 18, 'to': 7}, {'from': 18, 'to': 8}, {'from': 18, 'to': 9}, {'from': 18, 'to': 10}, {'from': 18, 'to': 11}, {'from': 18, 'to': 13}, {'from': 18, 'to': 17}, {'from': 21, 'to': 4}, {'from': 21, 'to': 18}, {'from': 22, 'to': 3}, {'from': 23, 'to': 10}, {'from': 23, 'to': 18}, {'from': 24, 'to': 10}, {'from': 24, 'to': 11}, {'from': 24, 'to': 18}, {'from': 25, 'to': 10}, {'from': 25, 'to': 11}, {'from': 25, 'to': 17}, {'from': 25, 'to': 18}, {'from': 25, 'to': 23}, {'from': 27, 'to': 10}, {'from': 27, 'to': 18}, {'from': 29, 'to': 18}, {'from': 30, 'to': 0}, {'from': 30, 'to': 1}, {'from': 30, 'to': 2}, {'from': 30, 'to': 4}, {'from': 30, 'to': 5}, {'from': 30, 'to': 6}, {'from': 30, 'to': 8}, {'from': 30, 'to': 10}, {'from': 30, 'to': 11}, {'from': 30, 'to': 12}, {'from': 30, 'to': 13}, {'from': 30, 'to': 16}, {'from': 30, 'to': 17}, {'from': 30, 'to': 18}, {'from': 30, 'to': 25}, {'from': 30, 'to': 27}, {'from': 31, 'to': 10}, {'from': 31, 'to': 14}, {'from': 31, 'to': 18}, {'from': 31, 'to': 30}, {'from': 32, 'to': 1}, {'from': 32, 'to': 10}, {'from': 32, 'to': 18}, {'from': 32, 'to': 30}, {'from': 33, 'to': 4}, {'from': 33, 'to': 10}, {'from': 33, 'to': 18}, {'from': 34, 'to': 4}, {'from': 34, 'to': 10}, {'from': 34, 'to': 18}, {'from': 35, 'to': 3}, {'from': 35, 'to': 22}, {'from': 37, 'to': 3}, {'from': 37, 'to': 4}, {'from': 37, 'to': 14}, {'from': 37, 'to': 21}, {'from': 38, 'to': 18}, {'from': 38, 'to': 30}, {'from': 38, 'to': 31}, {'from': 39, 'to': 1}, {'from': 39, 'to': 4}, {'from': 39, 'to': 9}, {'from': 39, 'to': 10}, {'from': 39, 'to': 11}, {'from': 39, 'to': 13}, {'from': 39, 'to': 15}, {'from': 39, 'to': 17}, {'from': 39, 'to': 18}, {'from': 39, 'to': 24}, {'from': 39, 'to': 25}, {'from': 39, 'to': 27}, {'from': 39, 'to': 30}, {'from': 39, 'to': 32}, {'from': 40, 'to': 10}, {'from': 40, 'to': 18}, {'from': 40, 'to': 24}, {'from': 40, 'to': 39}, {'from': 41, 'to': 18}, {'from': 42, 'to': 5}, {'from': 42, 'to': 18}, {'from': 42, 'to': 30}, {'from': 43, 'to': 1}, {'from': 43, 'to': 10}, {'from': 43, 'to': 18}, {'from': 43, 'to': 30}, {'from': 43, 'to': 32}, {'from': 45, 'to': 1}, {'from': 45, 'to': 3}, {'from': 45, 'to': 4}, {'from': 45, 'to': 6}, {'from': 45, 'to': 10}, {'from': 45, 'to': 13}, {'from': 45, 'to': 18}, {'from': 45, 'to': 21}, {'from': 45, 'to': 30}, {'from': 45, 'to': 33}, {'from': 45, 'to': 39}, {'from': 46, 'to': 0}, {'from': 46, 'to': 10}, {'from': 46, 'to': 11}, {'from': 46, 'to': 17}, {'from': 46, 'to': 18}, {'from': 46, 'to': 24}, {'from': 46, 'to': 30}, {'from': 46, 'to': 32}, {'from': 46, 'to': 39}, {'from': 47, 'to': 1}, {'from': 47, 'to': 3}, {'from': 47, 'to': 4}, {'from': 47, 'to': 6}, {'from': 47, 'to': 7}, {'from': 47, 'to': 9}, {'from': 47, 'to': 10}, {'from': 47, 'to': 13}, {'from': 47, 'to': 17}, {'from': 47, 'to': 18}, {'from': 47, 'to': 22}, {'from': 47, 'to': 25}, {'from': 47, 'to': 30}, {'from': 47, 'to': 33}, {'from': 47, 'to': 34}, {'from': 47, 'to': 35}, {'from': 47, 'to': 39}, {'from': 47, 'to': 45}, {'from': 48, 'to': 4}, {'from': 48, 'to': 10}, {'from': 48, 'to': 18}, {'from': 48, 'to': 34}, {'from': 48, 'to': 43}, {'from': 48, 'to': 45}, {'from': 49, 'to': 0}, {'from': 49, 'to': 3}, {'from': 49, 'to': 18}, {'from': 49, 'to': 30}, {'from': 49, 'to': 31}, {'from': 49, 'to': 46}, {'from': 50, 'to': 26}, {'from': 52, 'to': 1}, {'from': 52, 'to': 4}, {'from': 52, 'to': 10}, {'from': 52, 'to': 13}, {'from': 52, 'to': 17}, {'from': 52, 'to': 18}, {'from': 52, 'to': 23}, {'from': 52, 'to': 24}, {'from': 52, 'to': 25}, {'from': 52, 'to': 27}, {'from': 52, 'to': 30}, {'from': 52, 'to': 32}, {'from': 52, 'to': 39}, {'from': 52, 'to': 47}, {'from': 53, 'to': 4}, {'from': 53, 'to': 45}, {'from': 55, 'to': 31}, {'from': 55, 'to': 44}, {'from': 56, 'to': 1}, {'from': 56, 'to': 3}, {'from': 56, 'to': 4}, {'from': 56, 'to': 6}, {'from': 56, 'to': 10}, {'from': 56, 'to': 18}, {'from': 56, 'to': 21}, {'from': 56, 'to': 30}, {'from': 56, 'to': 34}, {'from': 56, 'to': 37}, {'from': 56, 'to': 39}, {'from': 56, 'to': 43}, {'from': 56, 'to': 47}, {'from': 56, 'to': 52}, {'from': 57, 'to': 0}, {'from': 57, 'to': 1}, {'from': 57, 'to': 4}, {'from': 57, 'to': 5}, {'from': 57, 'to': 6}, {'from': 57, 'to': 9}, {'from': 57, 'to': 10}, {'from': 57, 'to': 11}, {'from': 57, 'to': 13}, {'from': 57, 'to': 17}, {'from': 57, 'to': 18}, {'from': 57, 'to': 24}, {'from': 57, 'to': 25}, {'from': 57, 'to': 27}, {'from': 57, 'to': 30}, {'from': 57, 'to': 39}, {'from': 57, 'to': 43}, {'from': 57, 'to': 45}, {'from': 57, 'to': 46}, {'from': 57, 'to': 47}, {'from': 57, 'to': 48}, {'from': 57, 'to': 52}, {'from': 57, 'to': 56}, {'from': 58, 'to': 9}, {'from': 58, 'to': 10}, {'from': 58, 'to': 15}, {'from': 58, 'to': 18}, {'from': 58, 'to': 39}, {'from': 58, 'to': 47}, {'from': 59, 'to': 1}, {'from': 59, 'to': 2}, {'from': 59, 'to': 3}, {'from': 59, 'to': 4}, {'from': 59, 'to': 6}, {'from': 59, 'to': 10}, {'from': 59, 'to': 12}, {'from': 59, 'to': 13}, {'from': 59, 'to': 18}, {'from': 59, 'to': 30}, {'from': 59, 'to': 45}, {'from': 59, 'to': 47}, {'from': 59, 'to': 56}, {'from': 59, 'to': 57}, {'from': 60, 'to': 1}, {'from': 60, 'to': 3}, {'from': 60, 'to': 4}, {'from': 60, 'to': 9}, {'from': 60, 'to': 10}, {'from': 60, 'to': 13}, {'from': 60, 'to': 18}, {'from': 60, 'to': 24}, {'from': 60, 'to': 27}, {'from': 60, 'to': 30}, {'from': 60, 'to': 37}, {'from': 60, 'to': 39}, {'from': 60, 'to': 45}, {'from': 60, 'to': 46}, {'from': 60, 'to': 47}, {'from': 60, 'to': 52}, {'from': 60, 'to': 56}, {'from': 60, 'to': 57}, {'from': 60, 'to': 58}, {'from': 61, 'to': 2}, {'from': 61, 'to': 4}, {'from': 61, 'to': 5}, {'from': 61, 'to': 6}, {'from': 61, 'to': 10}, {'from': 61, 'to': 18}, {'from': 61, 'to': 30}, {'from': 61, 'to': 34}, {'from': 61, 'to': 43}, {'from': 61, 'to': 57}, {'from': 61, 'to': 59}, {'from': 62, 'to': 17}, {'from': 62, 'to': 18}, {'from': 63, 'to': 10}, {'from': 63, 'to': 18}, {'from': 64, 'to': 4}, {'from': 64, 'to': 10}, {'from': 64, 'to': 13}, {'from': 64, 'to': 16}, {'from': 64, 'to': 17}, {'from': 64, 'to': 18}, {'from': 64, 'to': 30}, {'from': 64, 'to': 39}, {'from': 64, 'to': 47}, {'from': 64, 'to': 60}, {'from': 65, 'to': 2}, {'from': 65, 'to': 9}, {'from': 65, 'to': 10}, {'from': 65, 'to': 15}, {'from': 65, 'to': 18}, {'from': 65, 'to': 34}, {'from': 65, 'to': 39}, {'from': 65, 'to': 56}, {'from': 65, 'to': 58}, {'from': 66, 'to': 10}, {'from': 66, 'to': 18}, {'from': 66, 'to': 30}, {'from': 67, 'to': 1}, {'from': 67, 'to': 9}, {'from': 67, 'to': 10}, {'from': 67, 'to': 18}, {'from': 67, 'to': 24}, {'from': 67, 'to': 25}, {'from': 67, 'to': 27}, {'from': 67, 'to': 39}, {'from': 67, 'to': 45}, {'from': 67, 'to': 52}, {'from': 67, 'to': 56}, {'from': 67, 'to': 57}, {'from': 67, 'to': 58}, {'from': 67, 'to': 60}, {'from': 67, 'to': 65}, {'from': 68, 'to': 13}, {'from': 68, 'to': 18}, {'from': 68, 'to': 44}, {'from': 68, 'to': 67}, {'from': 69, 'to': 10}, {'from': 69, 'to': 18}, {'from': 69, 'to': 23}, {'from': 69, 'to': 25}, {'from': 69, 'to': 52}, {'from': 69, 'to': 57}, {'from': 70, 'to': 39}, {'from': 70, 'to': 47}]};"
      ],
      "text/plain": [
       "<IPython.core.display.Javascript object>"
      ]
     },
     "execution_count": 13,
     "metadata": {},
     "output_type": "execute_result"
    }
   ],
   "source": [
    "with open('data.json') as json_file:\n",
    "    json_graph = json.load(json_file)\n",
    "    #print(json_graph['nodes'])\n",
    "    \n",
    "Javascript(\"\"\"window.jsonGraph={};\"\"\".format(json_graph))"
   ]
  },
  {
   "cell_type": "code",
   "execution_count": 14,
   "metadata": {
    "scrolled": false
   },
   "outputs": [
    {
     "data": {
      "text/html": [
       "<div id=\"mynetwork\"></div>\n"
      ],
      "text/plain": [
       "<IPython.core.display.HTML object>"
      ]
     },
     "metadata": {},
     "output_type": "display_data"
    }
   ],
   "source": [
    "%%html\n",
    "<div id=\"mynetwork\"></div>"
   ]
  },
  {
   "cell_type": "code",
   "execution_count": 19,
   "metadata": {},
   "outputs": [
    {
     "data": {
      "application/javascript": [
       "requirejs.config({\n",
       "    paths: {\n",
       "        vis: 'vis'\n",
       "    }\n",
       "});\n",
       "\n",
       "require(['vis'], function(vis){\n",
       "    \n",
       "    // create a network\n",
       "    var container = document.getElementById('mynetwork');\n",
       "    var options = {\n",
       "        width: '1600px',\n",
       "        height: '800px',\n",
       "        autoResize: true,\n",
       "        \n",
       "        layout:{\n",
       "            // hierarchical: true,\n",
       "            improvedLayout: true\n",
       "        },\n",
       "\n",
       "        barnesHut: {\n",
       "            avoidOverlap: 1,\n",
       "            springLength: 1000,\n",
       "            springConstant: 0.001,\n",
       "            gravitationalConstant: -10000,\n",
       "            repulsion:{\n",
       "                nodeDistance:100\n",
       "            }\n",
       "        },\n",
       "        \n",
       "        nodes: {\n",
       "            shape: 'ellipse'\n",
       "        }\n",
       "    };\n",
       "    \n",
       "    // We load the JSON graph we generated from iPython input\n",
       "    var graph = window.jsonGraph;\n",
       "    \n",
       "    // Display Graph\n",
       "    var network = new vis.Network(container, graph, options);\n",
       "});\n"
      ],
      "text/plain": [
       "<IPython.core.display.Javascript object>"
      ]
     },
     "metadata": {},
     "output_type": "display_data"
    }
   ],
   "source": [
    "%%javascript\n",
    "requirejs.config({\n",
    "    paths: {\n",
    "        vis: 'vis'\n",
    "    }\n",
    "});\n",
    "\n",
    "require(['vis'], function(vis){\n",
    "    \n",
    "    // create a network\n",
    "    var container = document.getElementById('mynetwork');\n",
    "    var options = {\n",
    "        width: '1600px',\n",
    "        height: '800px',\n",
    "        autoResize: true,\n",
    "        \n",
    "        layout:{\n",
    "            // hierarchical: true,\n",
    "            improvedLayout: true\n",
    "        },\n",
    "\n",
    "        barnesHut: {\n",
    "            avoidOverlap: 1,\n",
    "            springLength: 1000,\n",
    "            springConstant: 0.001,\n",
    "            gravitationalConstant: -10000,\n",
    "            repulsion:{\n",
    "                nodeDistance:100\n",
    "            }\n",
    "        },\n",
    "        \n",
    "        nodes: {\n",
    "            shape: 'ellipse'\n",
    "        }\n",
    "    };\n",
    "    \n",
    "    // We load the JSON graph we generated from iPython input\n",
    "    var graph = window.jsonGraph;\n",
    "    \n",
    "    // Display Graph\n",
    "    var network = new vis.Network(container, graph, options);\n",
    "});"
   ]
  },
  {
   "cell_type": "code",
   "execution_count": null,
   "metadata": {},
   "outputs": [],
   "source": []
  }
 ],
 "metadata": {
  "kernelspec": {
   "display_name": "Python 3",
   "language": "python",
   "name": "python3"
  },
  "language_info": {
   "codemirror_mode": {
    "name": "ipython",
    "version": 3
   },
   "file_extension": ".py",
   "mimetype": "text/x-python",
   "name": "python",
   "nbconvert_exporter": "python",
   "pygments_lexer": "ipython3",
   "version": "3.7.3"
  }
 },
 "nbformat": 4,
 "nbformat_minor": 2
}
